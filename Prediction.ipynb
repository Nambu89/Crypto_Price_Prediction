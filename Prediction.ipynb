{
 "cells": [
  {
   "cell_type": "code",
   "execution_count": 2,
   "metadata": {},
   "outputs": [],
   "source": [
    "# Importar las librerías\n",
    "from binance.client import Client\n",
    "import pandas as pd\n",
    "import datetime\n",
    "import numpy as np\n",
    "import matplotlib as plt\n",
    "\n",
    "from sklearn.model_selection import train_test_split\n",
    "from sklearn.metrics import mean_absolute_error, mean_squared_error\n",
    "\n",
    "import tensorflow as tf\n",
    "from tensorflow.keras.models import Sequential\n",
    "from tensorflow.keras.layers import LSTM, Dense"
   ]
  },
  {
   "cell_type": "code",
   "execution_count": 3,
   "metadata": {},
   "outputs": [],
   "source": [
    "# Introducir datos de API\n",
    "api_key = 'tSxoSTDvuhWRpYkr095v4zOgctd95GHzYTgf2xB2ZfhC6jEV62YdRAd7KMRmDVRN'\n",
    "api_secret = 'CtfeU0Fvx1gU2tjyKjveMu9gMKMzSmkmtRNJmujyUq7e8tmYx1btNJAhvisXlAyZ'\n",
    "\n",
    "client = Client(api_key, api_secret)"
   ]
  },
  {
   "cell_type": "code",
   "execution_count": 14,
   "metadata": {},
   "outputs": [],
   "source": [
    "# Definir una función para obtener datos históricos\n",
    "def get_historical_klines(symbol, interval, start, end):\n",
    "    \"\"\"\n",
    "    Obtiene datos históricos de precios de Binance.\n",
    "\n",
    "    :param symbol: Símbolo de la criptomoneda, ej. 'BTCUSDT'\n",
    "    :param interval: Intervalo de tiempo, ej. '1d' para diario\n",
    "    :param start: Fecha de inicio en formato 'dd/mm/yyyy'\n",
    "    :param end: Fecha de fin en formato 'dd/mm/yyyy'\n",
    "    :return: DataFrame con los datos de precios históricos\n",
    "    \"\"\"\n",
    "    klines = client.get_historical_klines(symbol, interval, start, end)\n",
    "    data = pd.DataFrame(klines, columns =[\n",
    "        'timestamp',\n",
    "        'open',\n",
    "        'high',\n",
    "        'low',\n",
    "        'close',\n",
    "        'volume',\n",
    "        'close_time',\n",
    "        'quote_asset_volume',\n",
    "        'number_of_trades',\n",
    "        'taker_buy_base_asset_volume',\n",
    "        'taker_buy_quote,asset_volume',\n",
    "        'ignore'\n",
    "    ])\n",
    "    data['timestamp'] = pd.to_datetime(data['timestamp'], unit = 'ms')\n",
    "    data.set_index('timestamp', inplace = True)\n",
    "    return data[['open', 'high', 'low', 'close', 'volume']].astype(float)"
   ]
  },
  {
   "cell_type": "code",
   "execution_count": 17,
   "metadata": {},
   "outputs": [],
   "source": [
    "# Definir las fechas de inicio y fin\n",
    "start_date = '01/01/2020'\n",
    "end_date = datetime.datetime.today().strftime('%d/%m/%Y')"
   ]
  },
  {
   "cell_type": "code",
   "execution_count": 18,
   "metadata": {},
   "outputs": [],
   "source": [
    "# Obtener datos históricos\n",
    "btc_data = get_historical_klines('BTCUSDT', Client.KLINE_INTERVAL_1DAY, start_date, end_date)\n",
    "eth_data = get_historical_klines('ETHUSDT', Client.KLINE_INTERVAL_1DAY, start_date, end_date)\n",
    "sol_data = get_historical_klines('SOLUSDT', Client.KLINE_INTERVAL_1DAY, start_date, end_date)"
   ]
  },
  {
   "cell_type": "code",
   "execution_count": 19,
   "metadata": {},
   "outputs": [],
   "source": [
    "# Guardamos los datos\n",
    "btc_data.to_csv('btc_data.csv')\n",
    "eth_data.to_csv('eth_data.csv')\n",
    "sol_data.to_csv('sol_data.csv')"
   ]
  }
 ],
 "metadata": {
  "kernelspec": {
   "display_name": "Python 3",
   "language": "python",
   "name": "python3"
  },
  "language_info": {
   "codemirror_mode": {
    "name": "ipython",
    "version": 3
   },
   "file_extension": ".py",
   "mimetype": "text/x-python",
   "name": "python",
   "nbconvert_exporter": "python",
   "pygments_lexer": "ipython3",
   "version": "3.12.2"
  }
 },
 "nbformat": 4,
 "nbformat_minor": 2
}
